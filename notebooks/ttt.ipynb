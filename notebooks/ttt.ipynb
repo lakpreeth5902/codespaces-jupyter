{
 "cells": [
  {
   "cell_type": "code",
   "execution_count": 7,
   "metadata": {},
   "outputs": [
    {
     "ename": "SyntaxError",
     "evalue": "invalid syntax (3423983500.py, line 11)",
     "output_type": "error",
     "traceback": [
      "\u001b[0;36m  Cell \u001b[0;32mIn[7], line 11\u001b[0;36m\u001b[0m\n\u001b[0;31m    print(\"\\n\",i*)\u001b[0m\n\u001b[0m                 ^\u001b[0m\n\u001b[0;31mSyntaxError\u001b[0m\u001b[0;31m:\u001b[0m invalid syntax\n"
     ]
    }
   ],
   "source": [
    "print(\"hello\")\n",
    "print(\"It\",\"amc\",\"bio\")\n",
    "l= \"lakpreeth\"\n",
    "print(\"hello mr/mrs: \", l)\n",
    "print('l'*4)\n",
    "print(\"abc\"*4)\n",
    "print(\"123\"*3)\n",
    "arrayList=['e','b','c','y']\n",
    "print(arrayList)\n",
    "for i in arrayList:\n",
    "    print(\"\\n\",i)\n",
    "k=int(input(\"enter your age: \"))\n",
    "if (k>50):\n",
    "    print(\"you are too old\")\n",
    "elif(k>20):\n",
    "    print(\"you are suitable for this job\")\n",
    "else:\n",
    "    print(\"you are too small\")    \n",
    "\n",
    "\n",
    "\n",
    "\n",
    "\n",
    "\n"
   ]
  },
  {
   "cell_type": "code",
   "execution_count": null,
   "metadata": {},
   "outputs": [
    {
     "data": {
      "text/plain": [
       "''"
      ]
     },
     "execution_count": 5,
     "metadata": {},
     "output_type": "execute_result"
    }
   ],
   "source": [
    "\"\""
   ]
  }
 ],
 "metadata": {
  "kernelspec": {
   "display_name": "Python 3",
   "language": "python",
   "name": "python3"
  },
  "language_info": {
   "codemirror_mode": {
    "name": "ipython",
    "version": 3
   },
   "file_extension": ".py",
   "mimetype": "text/x-python",
   "name": "python",
   "nbconvert_exporter": "python",
   "pygments_lexer": "ipython3",
   "version": "3.10.13"
  }
 },
 "nbformat": 4,
 "nbformat_minor": 2
}
